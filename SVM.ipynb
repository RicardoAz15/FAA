{
  "nbformat": 4,
  "nbformat_minor": 0,
  "metadata": {
    "colab": {
      "name": "Untitled0.ipynb",
      "provenance": [],
      "collapsed_sections": [],
      "mount_file_id": "1G3vgEjBKOr9Dm_oxQtswYvBqKe4sZfT5",
      "authorship_tag": "ABX9TyNp2n6hPJSaDHrnxGN8MxjP",
      "include_colab_link": true
    },
    "kernelspec": {
      "name": "python3",
      "display_name": "Python 3"
    },
    "language_info": {
      "name": "python"
    }
  },
  "cells": [
    {
      "cell_type": "markdown",
      "metadata": {
        "id": "view-in-github",
        "colab_type": "text"
      },
      "source": [
        "<a href=\"https://colab.research.google.com/github/RicardoAz15/FAA/blob/main/SVM.ipynb\" target=\"_parent\"><img src=\"https://colab.research.google.com/assets/colab-badge.svg\" alt=\"Open In Colab\"/></a>"
      ]
    },
    {
      "cell_type": "markdown",
      "source": [
        "Extract dataset files"
      ],
      "metadata": {
        "id": "xAsUHN8aq7f-"
      }
    },
    {
      "cell_type": "code",
      "execution_count": 3,
      "metadata": {
        "colab": {
          "base_uri": "https://localhost:8080/"
        },
        "id": "1ujP72k9pKlV",
        "outputId": "5ea9d93d-5bbf-4642-eda3-129ed0460c02"
      },
      "outputs": [
        {
          "output_type": "stream",
          "name": "stdout",
          "text": [
            "Extracting all the files now...\n",
            "Done!\n"
          ]
        }
      ],
      "source": [
        "from zipfile import ZipFile\n",
        "\n",
        "file_name = 'drive/MyDrive/Colab Notebooks/dataset.zip'\n",
        "\n",
        "with ZipFile(file_name, 'r') as zip:\n",
        "  print('Extracting all the files now...')\n",
        "  zip.extractall()\n",
        "  print('Done!')"
      ]
    },
    {
      "cell_type": "markdown",
      "source": [
        "Extraction and Analise of data"
      ],
      "metadata": {
        "id": "f9CI2WaGud5m"
      }
    },
    {
      "cell_type": "markdown",
      "source": [
        "Import necessary packages"
      ],
      "metadata": {
        "id": "5T6g4ypdrobY"
      }
    },
    {
      "cell_type": "code",
      "source": [
        "import glob\n",
        "import random\n",
        "import numpy as np\n",
        "import matplotlib.pyplot as plt"
      ],
      "metadata": {
        "id": "hWrLwhpXrmjh"
      },
      "execution_count": 4,
      "outputs": []
    },
    {
      "cell_type": "markdown",
      "source": [
        "Initialize global variables"
      ],
      "metadata": {
        "id": "RUa5XtIkr0kO"
      }
    },
    {
      "cell_type": "code",
      "source": [
        "\n",
        "\n",
        "TRAINING_DATA_LANDMARK_PATH = 'dataset/train_set/*/annotations/*_lnd.npy'\n",
        "VALIDATION_DATA_LANDMARK_PATH = 'dataset/val_set/*/annotations/*_lnd.npy'\n",
        "\n",
        "TRAINING_DATA_EXP_PATH = 'dataset/train_set/*/annotations/*_exp.npy'\n",
        "VALIDATION_DATA_EXP_PATH = 'dataset/val_set/*/annotations/*_exp.npy'\n"
      ],
      "metadata": {
        "id": "AZTJn8WAr8kj"
      },
      "execution_count": 5,
      "outputs": []
    },
    {
      "cell_type": "code",
      "source": [
        "#LABELS\n",
        "training_labels_paths = glob.glob(TRAINING_DATA_EXP_PATH)\n",
        "validation_labels_paths = glob.glob(VALIDATION_DATA_EXP_PATH)\n",
        "\n",
        "#LANDMAKRS\n",
        "training_landmarks_paths = glob.glob(TRAINING_DATA_LANDMARK_PATH)\n",
        "validation_landmarks_paths = glob.glob(VALIDATION_DATA_LANDMARK_PATH)\n",
        "\n",
        "print(len(training_landmarks_paths))\n",
        "\n",
        " "
      ],
      "metadata": {
        "id": "nh6CYaxWv2fM",
        "colab": {
          "base_uri": "https://localhost:8080/"
        },
        "outputId": "2a70626e-7de9-4bcb-94ca-d8bec5f63459"
      },
      "execution_count": 16,
      "outputs": [
        {
          "output_type": "stream",
          "name": "stdout",
          "text": [
            "46236\n"
          ]
        }
      ]
    },
    {
      "cell_type": "markdown",
      "source": [
        "Organize data"
      ],
      "metadata": {
        "id": "HeAl94lguyJZ"
      }
    },
    {
      "cell_type": "code",
      "source": [
        "def organize_data(labels_paths, landmarks_paths):\n",
        "  size = len(labels_paths)\n",
        "\n",
        "  labels = np.empty((0,2))\n",
        "  landmarks = np.empty((0,68,2))\n",
        "\n",
        "  for label_file in labels_paths:\n",
        "    # get index and landmark_file\n",
        "    file_number = (label_file.split('/')[-1]).split('_')[0]\n",
        "    landmark_file = [f for f in landmarks_paths if file_number in f][0]\n",
        "\n",
        "    # get label value and landmarks coordinates\n",
        "    label_value = np.array(([int(np.load(label_file))]))\n",
        "    landmark_coordinates = np.load(landmark_file)\n",
        "\n",
        "    result_landmarks = landmark_coordinates[:,1:]\n",
        "    \n",
        "    labels = np.insert(labels,0,label_value)\n",
        "    landmarks = np.insert(landmarks,0,result_landmarks,axis=0)\n",
        "    \n",
        "\n",
        "  return labels, landmarks\n",
        " "
      ],
      "metadata": {
        "id": "y_N-NZe7u1RN"
      },
      "execution_count": 92,
      "outputs": []
    },
    {
      "cell_type": "code",
      "source": [
        "# training data\n",
        "\n",
        "training_labels, training_landmarks = organize_data(training_labels_paths, training_landmarks_paths)\n",
        "# validation_labels, validation_landmarks = organize_data(validation_labels_paths, validation_landmarks_paths)"
      ],
      "metadata": {
        "id": "dVBjFvn3vfuo"
      },
      "execution_count": 93,
      "outputs": []
    },
    {
      "cell_type": "markdown",
      "source": [
        "Plot data"
      ],
      "metadata": {
        "id": "PfcM5PVkES4Q"
      }
    },
    {
      "cell_type": "code",
      "source": [
        "happy = (training_labels==0)\n",
        "sad = (training_labels==1)\n",
        "\n",
        "print(training_landmarks.shape)"
      ],
      "metadata": {
        "id": "TIWsl6WrEUeg",
        "colab": {
          "base_uri": "https://localhost:8080/"
        },
        "outputId": "11b96f38-26bc-41c9-c130-c0ab43bf8abf"
      },
      "execution_count": 94,
      "outputs": [
        {
          "output_type": "stream",
          "name": "stdout",
          "text": [
            "(10, 68, 2)\n"
          ]
        }
      ]
    },
    {
      "cell_type": "markdown",
      "source": [
        "Train SVM model"
      ],
      "metadata": {
        "id": "Au1xnJMUrgJJ"
      }
    },
    {
      "cell_type": "markdown",
      "source": [
        "Linear SVM "
      ],
      "metadata": {
        "id": "oDtsipqyjJM7"
      }
    },
    {
      "cell_type": "code",
      "source": [
        "from sklearn.svm import SVC\n",
        "\n",
        "linear_classifier = SVC(C=50, kernel='linear')\n",
        "\n",
        "print(training_landmarks.shape)\n",
        "print(training_labels.shape)\n",
        "\n",
        "linear_classifier.fit(training_landmarks,np.ravel(training_labels) )\n",
        "\n"
      ],
      "metadata": {
        "colab": {
          "base_uri": "https://localhost:8080/",
          "height": 414
        },
        "id": "VNq8v4iLhpKd",
        "outputId": "a089da28-1f75-4fc5-bdcb-f518d6a453c0"
      },
      "execution_count": 25,
      "outputs": [
        {
          "output_type": "stream",
          "name": "stdout",
          "text": [
            "(46336, 68, 2)\n",
            "(92572,)\n"
          ]
        },
        {
          "output_type": "error",
          "ename": "ValueError",
          "evalue": "ignored",
          "traceback": [
            "\u001b[0;31m---------------------------------------------------------------------------\u001b[0m",
            "\u001b[0;31mValueError\u001b[0m                                Traceback (most recent call last)",
            "\u001b[0;32m<ipython-input-25-7a6eb23992bc>\u001b[0m in \u001b[0;36m<module>\u001b[0;34m()\u001b[0m\n\u001b[1;32m      6\u001b[0m \u001b[0mprint\u001b[0m\u001b[0;34m(\u001b[0m\u001b[0mtraining_labels\u001b[0m\u001b[0;34m.\u001b[0m\u001b[0mshape\u001b[0m\u001b[0;34m)\u001b[0m\u001b[0;34m\u001b[0m\u001b[0;34m\u001b[0m\u001b[0m\n\u001b[1;32m      7\u001b[0m \u001b[0;34m\u001b[0m\u001b[0m\n\u001b[0;32m----> 8\u001b[0;31m \u001b[0mlinear_classifier\u001b[0m\u001b[0;34m.\u001b[0m\u001b[0mfit\u001b[0m\u001b[0;34m(\u001b[0m\u001b[0mtraining_landmarks\u001b[0m\u001b[0;34m,\u001b[0m\u001b[0mnp\u001b[0m\u001b[0;34m.\u001b[0m\u001b[0mravel\u001b[0m\u001b[0;34m(\u001b[0m\u001b[0mtraining_labels\u001b[0m\u001b[0;34m)\u001b[0m \u001b[0;34m)\u001b[0m\u001b[0;34m\u001b[0m\u001b[0;34m\u001b[0m\u001b[0m\n\u001b[0m\u001b[1;32m      9\u001b[0m \u001b[0;34m\u001b[0m\u001b[0m\n",
            "\u001b[0;32m/usr/local/lib/python3.7/dist-packages/sklearn/svm/_base.py\u001b[0m in \u001b[0;36mfit\u001b[0;34m(self, X, y, sample_weight)\u001b[0m\n\u001b[1;32m    194\u001b[0m                 \u001b[0morder\u001b[0m\u001b[0;34m=\u001b[0m\u001b[0;34m\"C\"\u001b[0m\u001b[0;34m,\u001b[0m\u001b[0;34m\u001b[0m\u001b[0;34m\u001b[0m\u001b[0m\n\u001b[1;32m    195\u001b[0m                 \u001b[0maccept_sparse\u001b[0m\u001b[0;34m=\u001b[0m\u001b[0;34m\"csr\"\u001b[0m\u001b[0;34m,\u001b[0m\u001b[0;34m\u001b[0m\u001b[0;34m\u001b[0m\u001b[0m\n\u001b[0;32m--> 196\u001b[0;31m                 \u001b[0maccept_large_sparse\u001b[0m\u001b[0;34m=\u001b[0m\u001b[0;32mFalse\u001b[0m\u001b[0;34m,\u001b[0m\u001b[0;34m\u001b[0m\u001b[0;34m\u001b[0m\u001b[0m\n\u001b[0m\u001b[1;32m    197\u001b[0m             )\n\u001b[1;32m    198\u001b[0m \u001b[0;34m\u001b[0m\u001b[0m\n",
            "\u001b[0;32m/usr/local/lib/python3.7/dist-packages/sklearn/base.py\u001b[0m in \u001b[0;36m_validate_data\u001b[0;34m(self, X, y, reset, validate_separately, **check_params)\u001b[0m\n\u001b[1;32m    574\u001b[0m                 \u001b[0my\u001b[0m \u001b[0;34m=\u001b[0m \u001b[0mcheck_array\u001b[0m\u001b[0;34m(\u001b[0m\u001b[0my\u001b[0m\u001b[0;34m,\u001b[0m \u001b[0;34m**\u001b[0m\u001b[0mcheck_y_params\u001b[0m\u001b[0;34m)\u001b[0m\u001b[0;34m\u001b[0m\u001b[0;34m\u001b[0m\u001b[0m\n\u001b[1;32m    575\u001b[0m             \u001b[0;32melse\u001b[0m\u001b[0;34m:\u001b[0m\u001b[0;34m\u001b[0m\u001b[0;34m\u001b[0m\u001b[0m\n\u001b[0;32m--> 576\u001b[0;31m                 \u001b[0mX\u001b[0m\u001b[0;34m,\u001b[0m \u001b[0my\u001b[0m \u001b[0;34m=\u001b[0m \u001b[0mcheck_X_y\u001b[0m\u001b[0;34m(\u001b[0m\u001b[0mX\u001b[0m\u001b[0;34m,\u001b[0m \u001b[0my\u001b[0m\u001b[0;34m,\u001b[0m \u001b[0;34m**\u001b[0m\u001b[0mcheck_params\u001b[0m\u001b[0;34m)\u001b[0m\u001b[0;34m\u001b[0m\u001b[0;34m\u001b[0m\u001b[0m\n\u001b[0m\u001b[1;32m    577\u001b[0m             \u001b[0mout\u001b[0m \u001b[0;34m=\u001b[0m \u001b[0mX\u001b[0m\u001b[0;34m,\u001b[0m \u001b[0my\u001b[0m\u001b[0;34m\u001b[0m\u001b[0;34m\u001b[0m\u001b[0m\n\u001b[1;32m    578\u001b[0m \u001b[0;34m\u001b[0m\u001b[0m\n",
            "\u001b[0;32m/usr/local/lib/python3.7/dist-packages/sklearn/utils/validation.py\u001b[0m in \u001b[0;36mcheck_X_y\u001b[0;34m(X, y, accept_sparse, accept_large_sparse, dtype, order, copy, force_all_finite, ensure_2d, allow_nd, multi_output, ensure_min_samples, ensure_min_features, y_numeric, estimator)\u001b[0m\n\u001b[1;32m    966\u001b[0m         \u001b[0mensure_min_samples\u001b[0m\u001b[0;34m=\u001b[0m\u001b[0mensure_min_samples\u001b[0m\u001b[0;34m,\u001b[0m\u001b[0;34m\u001b[0m\u001b[0;34m\u001b[0m\u001b[0m\n\u001b[1;32m    967\u001b[0m         \u001b[0mensure_min_features\u001b[0m\u001b[0;34m=\u001b[0m\u001b[0mensure_min_features\u001b[0m\u001b[0;34m,\u001b[0m\u001b[0;34m\u001b[0m\u001b[0;34m\u001b[0m\u001b[0m\n\u001b[0;32m--> 968\u001b[0;31m         \u001b[0mestimator\u001b[0m\u001b[0;34m=\u001b[0m\u001b[0mestimator\u001b[0m\u001b[0;34m,\u001b[0m\u001b[0;34m\u001b[0m\u001b[0;34m\u001b[0m\u001b[0m\n\u001b[0m\u001b[1;32m    969\u001b[0m     )\n\u001b[1;32m    970\u001b[0m \u001b[0;34m\u001b[0m\u001b[0m\n",
            "\u001b[0;32m/usr/local/lib/python3.7/dist-packages/sklearn/utils/validation.py\u001b[0m in \u001b[0;36mcheck_array\u001b[0;34m(array, accept_sparse, accept_large_sparse, dtype, order, copy, force_all_finite, ensure_2d, allow_nd, ensure_min_samples, ensure_min_features, estimator)\u001b[0m\n\u001b[1;32m    786\u001b[0m             raise ValueError(\n\u001b[1;32m    787\u001b[0m                 \u001b[0;34m\"Found array with dim %d. %s expected <= 2.\"\u001b[0m\u001b[0;34m\u001b[0m\u001b[0;34m\u001b[0m\u001b[0m\n\u001b[0;32m--> 788\u001b[0;31m                 \u001b[0;34m%\u001b[0m \u001b[0;34m(\u001b[0m\u001b[0marray\u001b[0m\u001b[0;34m.\u001b[0m\u001b[0mndim\u001b[0m\u001b[0;34m,\u001b[0m \u001b[0mestimator_name\u001b[0m\u001b[0;34m)\u001b[0m\u001b[0;34m\u001b[0m\u001b[0;34m\u001b[0m\u001b[0m\n\u001b[0m\u001b[1;32m    789\u001b[0m             )\n\u001b[1;32m    790\u001b[0m \u001b[0;34m\u001b[0m\u001b[0m\n",
            "\u001b[0;31mValueError\u001b[0m: Found array with dim 3. Estimator expected <= 2."
          ]
        }
      ]
    },
    {
      "cell_type": "code",
      "source": [
        "from sklearn import metrics\n",
        "\n",
        "print(\"Accuracy: \" , metrics.accuracy_score(training_landmarks, training_labels))\n",
        "print(\"Precision: \", metrics.precision_score(training_landmarks, training_labels))\n",
        "print(\"Recall: \", metrics.recall_score(training_landmarks, training_labels))\n"
      ],
      "metadata": {
        "id": "BMw8vgePlMri"
      },
      "execution_count": null,
      "outputs": []
    },
    {
      "cell_type": "code",
      "source": [
        "# test prediction\n",
        "predictions = linear_classifier.predict(validation_landmarks)\n",
        "\n",
        "\n"
      ],
      "metadata": {
        "id": "kpOCAsxIkd9D"
      },
      "execution_count": null,
      "outputs": []
    },
    {
      "cell_type": "markdown",
      "source": [
        "NonLinear SVM"
      ],
      "metadata": {
        "id": "FU3Y_XRYjLxK"
      }
    },
    {
      "cell_type": "code",
      "source": [
        "def calculateParams(X, y, Xval, yval, vals):\n",
        "    \"\"\"\n",
        "    returns the optimal C and gamma(1/sigma) based on a cross-validation set.\n",
        "    \"\"\"\n",
        "    acc = 0\n",
        "    best_C=0\n",
        "    best_gamma=0\n",
        "    for i in vals:\n",
        "        C= i\n",
        "        for j in vals:\n",
        "            gamma = 1/j\n",
        "            classifier = SVC(C=C,gamma=gamma)\n",
        "            classifier.fit(X,y)\n",
        "            prediction = classifier.predict(Xval)\n",
        "            score = classifier.score(Xval,yval)\n",
        "            if score>acc:\n",
        "                acc =score\n",
        "                best_C =C\n",
        "                best_gamma=gamma\n",
        "    return best_C, best_gamma"
      ],
      "metadata": {
        "id": "bEEPXM2TjVh6"
      },
      "execution_count": null,
      "outputs": []
    },
    {
      "cell_type": "markdown",
      "source": [
        "RBF SVM"
      ],
      "metadata": {
        "id": "I7mD3-FDjWgG"
      }
    }
  ]
}