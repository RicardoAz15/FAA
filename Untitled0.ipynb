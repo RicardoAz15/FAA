{
  "nbformat": 4,
  "nbformat_minor": 0,
  "metadata": {
    "colab": {
      "name": "Untitled0.ipynb",
      "provenance": [],
      "collapsed_sections": [],
      "mount_file_id": "1G3vgEjBKOr9Dm_oxQtswYvBqKe4sZfT5",
      "authorship_tag": "ABX9TyNNlx28m3cp0q4bpP4jIJ4q",
      "include_colab_link": true
    },
    "kernelspec": {
      "name": "python3",
      "display_name": "Python 3"
    },
    "language_info": {
      "name": "python"
    }
  },
  "cells": [
    {
      "cell_type": "markdown",
      "metadata": {
        "id": "view-in-github",
        "colab_type": "text"
      },
      "source": [
        "<a href=\"https://colab.research.google.com/github/RicardoAz15/FAA/blob/main/Untitled0.ipynb\" target=\"_parent\"><img src=\"https://colab.research.google.com/assets/colab-badge.svg\" alt=\"Open In Colab\"/></a>"
      ]
    },
    {
      "cell_type": "markdown",
      "source": [
        "Extract dataset files"
      ],
      "metadata": {
        "id": "xAsUHN8aq7f-"
      }
    },
    {
      "cell_type": "code",
      "execution_count": 1,
      "metadata": {
        "colab": {
          "base_uri": "https://localhost:8080/"
        },
        "id": "1ujP72k9pKlV",
        "outputId": "d10c0232-cc95-4010-e90e-7bf4e743dd6a"
      },
      "outputs": [
        {
          "output_type": "stream",
          "name": "stdout",
          "text": [
            "Extracting all the files now...\n",
            "Done!\n"
          ]
        }
      ],
      "source": [
        "from zipfile import ZipFile\n",
        "\n",
        "file_name = 'drive/MyDrive/Colab Notebooks/dataset.zip'\n",
        "\n",
        "with ZipFile(file_name, 'r') as zip:\n",
        "  print('Extracting all the files now...')\n",
        "  zip.extractall()\n",
        "  print('Done!')"
      ]
    },
    {
      "cell_type": "markdown",
      "source": [
        "Extraction and Analise of data"
      ],
      "metadata": {
        "id": "f9CI2WaGud5m"
      }
    },
    {
      "cell_type": "markdown",
      "source": [
        "Import necessary packages"
      ],
      "metadata": {
        "id": "5T6g4ypdrobY"
      }
    },
    {
      "cell_type": "code",
      "source": [
        "import glob\n",
        "import random\n",
        "import numpy as np\n",
        "import matplotlib.pyplot as plt"
      ],
      "metadata": {
        "id": "hWrLwhpXrmjh"
      },
      "execution_count": 2,
      "outputs": []
    },
    {
      "cell_type": "markdown",
      "source": [
        "Initialize global variables"
      ],
      "metadata": {
        "id": "RUa5XtIkr0kO"
      }
    },
    {
      "cell_type": "code",
      "source": [
        "TRAINING_DATA_LANDMARK_PATH = 'dataset/train_set/*/annotations/*_lnd.npy'\n",
        "VALIDATION_DATA_LANDMARK_PATH = 'dataset/val_set/*/annotations/*_lnd.npy'\n",
        "\n",
        "TRAINING_DATA_EXP_PATH = 'dataset/train_set/*/annotations/*_exp.npy'\n",
        "VALIDATION_DATA_EXP_PATH = 'dataset/val_set/*/annotations/*_exp.npy'\n"
      ],
      "metadata": {
        "id": "AZTJn8WAr8kj"
      },
      "execution_count": 3,
      "outputs": []
    },
    {
      "cell_type": "code",
      "source": [
        "#LABELS\n",
        "training_labels_paths = glob.glob(TRAINING_DATA_EXP_PATH)\n",
        "validation_labels_paths = glob.glob(VALIDATION_DATA_EXP_PATH)\n",
        "\n",
        "#LANDMAKRS\n",
        "training_landmarks_paths = glob.glob(TRAINING_DATA_LANDMARK_PATH)\n",
        "validation_landmarks_paths = glob.glob(VALIDATION_DATA_LANDMARK_PATH)\n"
      ],
      "metadata": {
        "id": "nh6CYaxWv2fM"
      },
      "execution_count": 4,
      "outputs": []
    },
    {
      "cell_type": "markdown",
      "source": [
        "Organize data"
      ],
      "metadata": {
        "id": "HeAl94lguyJZ"
      }
    },
    {
      "cell_type": "code",
      "source": [
        "def organize_data(labels_paths, landmarks_paths):\n",
        "  size = len(labels_paths)\n",
        "\n",
        "  labels = np.empty((0,2))\n",
        "  landmarks = np.empty((0,68,2))\n",
        "\n",
        "  for label_file in labels_paths:\n",
        "    # get index and landmark_file\n",
        "    file_number = (label_file.split('/')[-1]).split('_')[0]\n",
        "    landmark_file = [f for f in landmarks_paths if file_number in f][0]\n",
        "\n",
        "    # get label value and landmarks coordinates\n",
        "    label_value = np.array(([int(np.load(label_file))]))\n",
        "    landmark_coordinates = np.load(landmark_file)\n",
        "\n",
        "    result_landmarks = landmark_coordinates[:,1:]\n",
        "    \n",
        "    labels = np.insert(labels,0,label_value,axis=0)\n",
        "    landmarks = np.insert(landmarks,0,result_landmarks,axis=0)\n",
        "    \n",
        "\n",
        "  return labels, landmarks\n",
        " "
      ],
      "metadata": {
        "id": "y_N-NZe7u1RN"
      },
      "execution_count": 11,
      "outputs": []
    },
    {
      "cell_type": "code",
      "source": [
        "# training data\n",
        "\n",
        "training_labels, training_landmarks = organize_data(training_labels_paths, training_landmarks_paths)\n",
        "validation_labels, validation_landmarks = organize_data(validation_labels_paths, validation_landmarks_paths)"
      ],
      "metadata": {
        "id": "dVBjFvn3vfuo"
      },
      "execution_count": 8,
      "outputs": []
    },
    {
      "cell_type": "code",
      "source": [
        "#reshape labels\n",
        "size = training_labels.shape[0]\n",
        "training_labels = training_labels.reshape((size,1))\n",
        "size = validation_labels.shape[0]\n",
        "validation_labels = validation_labels.reshape((size,1))\n",
        "\n",
        "print(validation_labels.shape)\n",
        "print(training_labels.shape)"
      ],
      "metadata": {
        "colab": {
          "base_uri": "https://localhost:8080/"
        },
        "id": "r7lQba1M2-jP",
        "outputId": "4459d6f0-ddf0-48c4-8763-011a458b13ae"
      },
      "execution_count": 13,
      "outputs": [
        {
          "output_type": "stream",
          "name": "stdout",
          "text": [
            "(940, 1)\n",
            "(46236, 1)\n"
          ]
        }
      ]
    },
    {
      "cell_type": "markdown",
      "source": [
        "Determinar centro da imagem"
      ],
      "metadata": {
        "id": "YOSMpGnntffO"
      }
    },
    {
      "cell_type": "code",
      "source": [
        "def get_feature_vector_ASTESJ(landmarks):\n",
        "\n",
        "  from math import atan2, degrees\n",
        "\n",
        "  # get x\n",
        "  # get y\n",
        "\n",
        "  X = landmarks[:,0]\n",
        "  Y = landmarks[:,1]\n",
        "\n",
        "  center_x = np.mean(X)\n",
        "  center_y = np.mean(Y)\n",
        "\n",
        "  center = [center_x, center_y]\n",
        "\n",
        "  dst_array = np.empty((0,1))\n",
        "\n",
        "  # euclidean distance \n",
        "  for lnd in landmarks:\n",
        "\n",
        "    lnd_x = lnd[0]\n",
        "    lnd_y = lnd[1]\n",
        "\n",
        "    deltaY = center_y - lnd_y\n",
        "    deltaX = center_x - lnd_x\n",
        "    \n",
        "    direction_angle = degrees(atan2(deltaY, deltaX)) # direction angle\n",
        "\n",
        "    magnitude = np.linalg.norm(center-lnd) # euclidian distance\n",
        "\n",
        "    lnd_vector = [lnd_x, lnd_y, magnitude, direction_angle ]\n",
        "\n",
        "    dst_array = np.append(dst_array,lnd_vector)\n",
        "  \n",
        "  return dst_array"
      ],
      "metadata": {
        "id": "jBi_-Eaqti6T"
      },
      "execution_count": 121,
      "outputs": []
    },
    {
      "cell_type": "markdown",
      "source": [
        "Create feature vector from ASTESJ example"
      ],
      "metadata": {
        "id": "3_T3BgI775Ki"
      }
    },
    {
      "cell_type": "code",
      "source": [
        "feature_vector_ASTESJ = np.empty((0,272))\n",
        "\n",
        "for lnd in training_landmarks:\n",
        "  vector = get_feature_vector_ASTESJ(lnd)\n",
        "  feature_vector_ASTESJ = np.append(feature_vector_ASTESJ,[vector],axis=0)\n",
        "\n",
        "print(feature_vector_ASTESJ)\n"
      ],
      "metadata": {
        "id": "xDwbbVh66CGT"
      },
      "execution_count": null,
      "outputs": []
    },
    {
      "cell_type": "code",
      "source": [
        "print(feature_vector_ASTESJ.shape)"
      ],
      "metadata": {
        "colab": {
          "base_uri": "https://localhost:8080/"
        },
        "id": "fkhzD_qH-i3y",
        "outputId": "cbc8a98d-cbf4-42f7-cc33-09e04afbcdaa"
      },
      "execution_count": 39,
      "outputs": [
        {
          "output_type": "stream",
          "name": "stdout",
          "text": [
            "(46236, 2)\n"
          ]
        }
      ]
    },
    {
      "cell_type": "markdown",
      "source": [
        "Train SVM model with ASTESJ example"
      ],
      "metadata": {
        "id": "Au1xnJMUrgJJ"
      }
    },
    {
      "cell_type": "markdown",
      "source": [
        "Linear SVM "
      ],
      "metadata": {
        "id": "oDtsipqyjJM7"
      }
    },
    {
      "cell_type": "code",
      "source": [
        "from sklearn.svm import SVC\n",
        "\n",
        "linear_classifier = SVC(kernel='linear')\n",
        "\n",
        "print(feature_vector_ASTESJ.shape)\n",
        "print(training_labels.shape)\n",
        "\n",
        "# size = training_labels.shape[0]\n",
        "# y = training_labels.reshape(size,1)\n",
        "\n",
        "# print(y.shape)\n",
        "# print(np.ravel(y))\n",
        "\n",
        "# print(lnd_distance.shape)\n",
        "\n",
        "linear_classifier.fit(feature_vector_ASTESJ, training_labels)\n",
        "print(\"Accuracy: \", linear_classifier.score(feature_vector_ASTESJ, training_labels))\n",
        "\n"
      ],
      "metadata": {
        "id": "VNq8v4iLhpKd",
        "colab": {
          "base_uri": "https://localhost:8080/",
          "height": 470
        },
        "outputId": "bd6ab840-4163-4bd6-bd4e-0ac146d9ed3b"
      },
      "execution_count": 161,
      "outputs": [
        {
          "output_type": "stream",
          "name": "stdout",
          "text": [
            "(2, 272)\n",
            "(46236, 1)\n"
          ]
        },
        {
          "output_type": "stream",
          "name": "stderr",
          "text": [
            "/usr/local/lib/python3.7/dist-packages/sklearn/utils/validation.py:985: DataConversionWarning: A column-vector y was passed when a 1d array was expected. Please change the shape of y to (n_samples, ), for example using ravel().\n",
            "  y = column_or_1d(y, warn=True)\n"
          ]
        },
        {
          "output_type": "error",
          "ename": "ValueError",
          "evalue": "ignored",
          "traceback": [
            "\u001b[0;31m---------------------------------------------------------------------------\u001b[0m",
            "\u001b[0;31mValueError\u001b[0m                                Traceback (most recent call last)",
            "\u001b[0;32m<ipython-input-161-a39936873995>\u001b[0m in \u001b[0;36m<module>\u001b[0;34m()\u001b[0m\n\u001b[1;32m     14\u001b[0m \u001b[0;31m# print(lnd_distance.shape)\u001b[0m\u001b[0;34m\u001b[0m\u001b[0;34m\u001b[0m\u001b[0;34m\u001b[0m\u001b[0m\n\u001b[1;32m     15\u001b[0m \u001b[0;34m\u001b[0m\u001b[0m\n\u001b[0;32m---> 16\u001b[0;31m \u001b[0mlinear_classifier\u001b[0m\u001b[0;34m.\u001b[0m\u001b[0mfit\u001b[0m\u001b[0;34m(\u001b[0m\u001b[0mfeature_vector_ASTESJ\u001b[0m\u001b[0;34m,\u001b[0m \u001b[0mtraining_labels\u001b[0m\u001b[0;34m)\u001b[0m\u001b[0;34m\u001b[0m\u001b[0;34m\u001b[0m\u001b[0m\n\u001b[0m\u001b[1;32m     17\u001b[0m \u001b[0mprint\u001b[0m\u001b[0;34m(\u001b[0m\u001b[0;34m\"Accuracy: \"\u001b[0m\u001b[0;34m,\u001b[0m \u001b[0mlinear_classifier\u001b[0m\u001b[0;34m.\u001b[0m\u001b[0mscore\u001b[0m\u001b[0;34m(\u001b[0m\u001b[0mfeature_vector_ASTESJ\u001b[0m\u001b[0;34m,\u001b[0m \u001b[0mtraining_labels\u001b[0m\u001b[0;34m)\u001b[0m\u001b[0;34m)\u001b[0m\u001b[0;34m\u001b[0m\u001b[0;34m\u001b[0m\u001b[0m\n\u001b[1;32m     18\u001b[0m \u001b[0;34m\u001b[0m\u001b[0m\n",
            "\u001b[0;32m/usr/local/lib/python3.7/dist-packages/sklearn/svm/_base.py\u001b[0m in \u001b[0;36mfit\u001b[0;34m(self, X, y, sample_weight)\u001b[0m\n\u001b[1;32m    194\u001b[0m                 \u001b[0morder\u001b[0m\u001b[0;34m=\u001b[0m\u001b[0;34m\"C\"\u001b[0m\u001b[0;34m,\u001b[0m\u001b[0;34m\u001b[0m\u001b[0;34m\u001b[0m\u001b[0m\n\u001b[1;32m    195\u001b[0m                 \u001b[0maccept_sparse\u001b[0m\u001b[0;34m=\u001b[0m\u001b[0;34m\"csr\"\u001b[0m\u001b[0;34m,\u001b[0m\u001b[0;34m\u001b[0m\u001b[0;34m\u001b[0m\u001b[0m\n\u001b[0;32m--> 196\u001b[0;31m                 \u001b[0maccept_large_sparse\u001b[0m\u001b[0;34m=\u001b[0m\u001b[0;32mFalse\u001b[0m\u001b[0;34m,\u001b[0m\u001b[0;34m\u001b[0m\u001b[0;34m\u001b[0m\u001b[0m\n\u001b[0m\u001b[1;32m    197\u001b[0m             )\n\u001b[1;32m    198\u001b[0m \u001b[0;34m\u001b[0m\u001b[0m\n",
            "\u001b[0;32m/usr/local/lib/python3.7/dist-packages/sklearn/base.py\u001b[0m in \u001b[0;36m_validate_data\u001b[0;34m(self, X, y, reset, validate_separately, **check_params)\u001b[0m\n\u001b[1;32m    574\u001b[0m                 \u001b[0my\u001b[0m \u001b[0;34m=\u001b[0m \u001b[0mcheck_array\u001b[0m\u001b[0;34m(\u001b[0m\u001b[0my\u001b[0m\u001b[0;34m,\u001b[0m \u001b[0;34m**\u001b[0m\u001b[0mcheck_y_params\u001b[0m\u001b[0;34m)\u001b[0m\u001b[0;34m\u001b[0m\u001b[0;34m\u001b[0m\u001b[0m\n\u001b[1;32m    575\u001b[0m             \u001b[0;32melse\u001b[0m\u001b[0;34m:\u001b[0m\u001b[0;34m\u001b[0m\u001b[0;34m\u001b[0m\u001b[0m\n\u001b[0;32m--> 576\u001b[0;31m                 \u001b[0mX\u001b[0m\u001b[0;34m,\u001b[0m \u001b[0my\u001b[0m \u001b[0;34m=\u001b[0m \u001b[0mcheck_X_y\u001b[0m\u001b[0;34m(\u001b[0m\u001b[0mX\u001b[0m\u001b[0;34m,\u001b[0m \u001b[0my\u001b[0m\u001b[0;34m,\u001b[0m \u001b[0;34m**\u001b[0m\u001b[0mcheck_params\u001b[0m\u001b[0;34m)\u001b[0m\u001b[0;34m\u001b[0m\u001b[0;34m\u001b[0m\u001b[0m\n\u001b[0m\u001b[1;32m    577\u001b[0m             \u001b[0mout\u001b[0m \u001b[0;34m=\u001b[0m \u001b[0mX\u001b[0m\u001b[0;34m,\u001b[0m \u001b[0my\u001b[0m\u001b[0;34m\u001b[0m\u001b[0;34m\u001b[0m\u001b[0m\n\u001b[1;32m    578\u001b[0m \u001b[0;34m\u001b[0m\u001b[0m\n",
            "\u001b[0;32m/usr/local/lib/python3.7/dist-packages/sklearn/utils/validation.py\u001b[0m in \u001b[0;36mcheck_X_y\u001b[0;34m(X, y, accept_sparse, accept_large_sparse, dtype, order, copy, force_all_finite, ensure_2d, allow_nd, multi_output, ensure_min_samples, ensure_min_features, y_numeric, estimator)\u001b[0m\n\u001b[1;32m    971\u001b[0m     \u001b[0my\u001b[0m \u001b[0;34m=\u001b[0m \u001b[0m_check_y\u001b[0m\u001b[0;34m(\u001b[0m\u001b[0my\u001b[0m\u001b[0;34m,\u001b[0m \u001b[0mmulti_output\u001b[0m\u001b[0;34m=\u001b[0m\u001b[0mmulti_output\u001b[0m\u001b[0;34m,\u001b[0m \u001b[0my_numeric\u001b[0m\u001b[0;34m=\u001b[0m\u001b[0my_numeric\u001b[0m\u001b[0;34m)\u001b[0m\u001b[0;34m\u001b[0m\u001b[0;34m\u001b[0m\u001b[0m\n\u001b[1;32m    972\u001b[0m \u001b[0;34m\u001b[0m\u001b[0m\n\u001b[0;32m--> 973\u001b[0;31m     \u001b[0mcheck_consistent_length\u001b[0m\u001b[0;34m(\u001b[0m\u001b[0mX\u001b[0m\u001b[0;34m,\u001b[0m \u001b[0my\u001b[0m\u001b[0;34m)\u001b[0m\u001b[0;34m\u001b[0m\u001b[0;34m\u001b[0m\u001b[0m\n\u001b[0m\u001b[1;32m    974\u001b[0m \u001b[0;34m\u001b[0m\u001b[0m\n\u001b[1;32m    975\u001b[0m     \u001b[0;32mreturn\u001b[0m \u001b[0mX\u001b[0m\u001b[0;34m,\u001b[0m \u001b[0my\u001b[0m\u001b[0;34m\u001b[0m\u001b[0;34m\u001b[0m\u001b[0m\n",
            "\u001b[0;32m/usr/local/lib/python3.7/dist-packages/sklearn/utils/validation.py\u001b[0m in \u001b[0;36mcheck_consistent_length\u001b[0;34m(*arrays)\u001b[0m\n\u001b[1;32m    331\u001b[0m         raise ValueError(\n\u001b[1;32m    332\u001b[0m             \u001b[0;34m\"Found input variables with inconsistent numbers of samples: %r\"\u001b[0m\u001b[0;34m\u001b[0m\u001b[0;34m\u001b[0m\u001b[0m\n\u001b[0;32m--> 333\u001b[0;31m             \u001b[0;34m%\u001b[0m \u001b[0;34m[\u001b[0m\u001b[0mint\u001b[0m\u001b[0;34m(\u001b[0m\u001b[0ml\u001b[0m\u001b[0;34m)\u001b[0m \u001b[0;32mfor\u001b[0m \u001b[0ml\u001b[0m \u001b[0;32min\u001b[0m \u001b[0mlengths\u001b[0m\u001b[0;34m]\u001b[0m\u001b[0;34m\u001b[0m\u001b[0;34m\u001b[0m\u001b[0m\n\u001b[0m\u001b[1;32m    334\u001b[0m         )\n\u001b[1;32m    335\u001b[0m \u001b[0;34m\u001b[0m\u001b[0m\n",
            "\u001b[0;31mValueError\u001b[0m: Found input variables with inconsistent numbers of samples: [2, 46236]"
          ]
        }
      ]
    },
    {
      "cell_type": "code",
      "source": [
        "def get_values_mean_distance_landmarks(landmarks):\n",
        "\n",
        "  lnd_distance = np.empty((0,2))\n",
        "  for i,lnd in enumerate(landmarks):\n",
        "    dst_array = get_distance_from_center(lnd)\n",
        "    dst_array = np.array(([[i,dst_array]]))\n",
        "    lnd_distance = np.append(lnd_distance,dst_array, axis=0)\n",
        "\n",
        "  return lnd_distance"
      ],
      "metadata": {
        "id": "4C0VXaCwwgFC"
      },
      "execution_count": null,
      "outputs": []
    },
    {
      "cell_type": "code",
      "source": [
        "def get_values_mean_distance_total(landmarks):\n",
        "  lnd_distance = np.empty((0,2))\n",
        "  for i,lnd in enumerate(landmarks):\n",
        "    dst_array = get_distance_from_center(lnd)\n",
        "    dst_array = np.mean(dst_array)\n",
        "    lnd_distance = np.append(lnd_distance,[[i,dst_array]], axis=0)\n",
        "\n",
        "  return lnd_distance"
      ],
      "metadata": {
        "id": "GTa0O49GAYGv"
      },
      "execution_count": null,
      "outputs": []
    },
    {
      "cell_type": "code",
      "source": [
        "# 3º option"
      ],
      "metadata": {
        "id": "fmTkhFVeAdRq"
      },
      "execution_count": null,
      "outputs": []
    },
    {
      "cell_type": "code",
      "source": [
        "lnd_distance = get_values_mean_distance_total(training_landmarks)\n",
        "print(lnd_distance.shape)"
      ],
      "metadata": {
        "colab": {
          "base_uri": "https://localhost:8080/"
        },
        "id": "rin-5VWPBGn7",
        "outputId": "2adac515-e568-40ef-9192-470a5f8b63f0"
      },
      "execution_count": null,
      "outputs": [
        {
          "output_type": "stream",
          "name": "stdout",
          "text": [
            "(46236, 2)\n"
          ]
        }
      ]
    },
    {
      "cell_type": "code",
      "source": [
        "happy=(training_labels==1)\n",
        "sad=(training_labels==2)\n",
        "size = len(training_labels)\n",
        "happy = happy.reshape(size,1)\n",
        "sad = sad.reshape(size,1)\n",
        "\n",
        "plt.scatter(lnd_distance[happy[:,0],0],lnd_distance[happy[:,0],1],c=\"r\",marker=\"+\")\n",
        "plt.scatter(lnd_distance[sad[:,0],0],lnd_distance[sad[:,0],1],c=\"b\",marker=\"o\")\n",
        "plt.legend(['Positive examples', 'Negative examples'])"
      ],
      "metadata": {
        "colab": {
          "base_uri": "https://localhost:8080/",
          "height": 421
        },
        "id": "Sl9SCkvYImtg",
        "outputId": "590451cd-d55f-4167-eff1-90e38d95ce6a"
      },
      "execution_count": null,
      "outputs": [
        {
          "output_type": "stream",
          "name": "stdout",
          "text": [
            "[ True  True  True ... False False False]\n",
            "[[False]\n",
            " [False]\n",
            " [False]\n",
            " ...\n",
            " [ True]\n",
            " [ True]\n",
            " [ True]]\n"
          ]
        },
        {
          "output_type": "execute_result",
          "data": {
            "text/plain": [
              "<matplotlib.legend.Legend at 0x7ff211bca790>"
            ]
          },
          "metadata": {},
          "execution_count": 182
        },
        {
          "output_type": "display_data",
          "data": {
            "image/png": "[encoded data removed]",
            "text/plain": [
              "<Figure size 432x288 with 1 Axes>"
            ]
          },
          "metadata": {
            "needs_background": "light"
          }
        }
      ]
    },
    {
      "cell_type": "code",
      "source": [
        "from sklearn import metrics\n",
        "\n",
        "print(\"Accuracy: \", linear_classifier.score(lnd_distance,y))\n",
        "\n",
        "# print(\"Accuracy: \" , metrics.accuracy_score(training_landmarks, training_labels))\n",
        "# print(\"Precision: \", metrics.precision_score(training_landmarks, training_labels))\n",
        "# print(\"Recall: \", metrics.recall_score(training_landmarks, training_labels))\n"
      ],
      "metadata": {
        "id": "BMw8vgePlMri",
        "colab": {
          "base_uri": "https://localhost:8080/"
        },
        "outputId": "f7e0a1d9-343a-4315-db34-0d8b5ce073b0"
      },
      "execution_count": null,
      "outputs": [
        {
          "output_type": "stream",
          "name": "stdout",
          "text": [
            "Accuracy:  1.0\n"
          ]
        }
      ]
    },
    {
      "cell_type": "code",
      "source": [
        "# test prediction\n",
        "predictions = linear_classifier.predict(validation_landmarks)"
      ],
      "metadata": {
        "id": "kpOCAsxIkd9D",
        "colab": {
          "base_uri": "https://localhost:8080/",
          "height": 346
        },
        "outputId": "5d4213ec-6a7d-4ccb-9aa9-adc0330f2998"
      },
      "execution_count": null,
      "outputs": [
        {
          "output_type": "error",
          "ename": "ValueError",
          "evalue": "ignored",
          "traceback": [
            "\u001b[0;31m---------------------------------------------------------------------------\u001b[0m",
            "\u001b[0;31mValueError\u001b[0m                                Traceback (most recent call last)",
            "\u001b[0;32m<ipython-input-183-b9a3f9730b86>\u001b[0m in \u001b[0;36m<module>\u001b[0;34m()\u001b[0m\n\u001b[1;32m      1\u001b[0m \u001b[0;31m# test prediction\u001b[0m\u001b[0;34m\u001b[0m\u001b[0;34m\u001b[0m\u001b[0;34m\u001b[0m\u001b[0m\n\u001b[0;32m----> 2\u001b[0;31m \u001b[0mpredictions\u001b[0m \u001b[0;34m=\u001b[0m \u001b[0mlinear_classifier\u001b[0m\u001b[0;34m.\u001b[0m\u001b[0mpredict\u001b[0m\u001b[0;34m(\u001b[0m\u001b[0mvalidation_landmarks\u001b[0m\u001b[0;34m)\u001b[0m\u001b[0;34m\u001b[0m\u001b[0;34m\u001b[0m\u001b[0m\n\u001b[0m",
            "\u001b[0;32m/usr/local/lib/python3.7/dist-packages/sklearn/svm/_base.py\u001b[0m in \u001b[0;36mpredict\u001b[0;34m(self, X)\u001b[0m\n\u001b[1;32m    789\u001b[0m             \u001b[0my\u001b[0m \u001b[0;34m=\u001b[0m \u001b[0mnp\u001b[0m\u001b[0;34m.\u001b[0m\u001b[0margmax\u001b[0m\u001b[0;34m(\u001b[0m\u001b[0mself\u001b[0m\u001b[0;34m.\u001b[0m\u001b[0mdecision_function\u001b[0m\u001b[0;34m(\u001b[0m\u001b[0mX\u001b[0m\u001b[0;34m)\u001b[0m\u001b[0;34m,\u001b[0m \u001b[0maxis\u001b[0m\u001b[0;34m=\u001b[0m\u001b[0;36m1\u001b[0m\u001b[0;34m)\u001b[0m\u001b[0;34m\u001b[0m\u001b[0;34m\u001b[0m\u001b[0m\n\u001b[1;32m    790\u001b[0m         \u001b[0;32melse\u001b[0m\u001b[0;34m:\u001b[0m\u001b[0;34m\u001b[0m\u001b[0;34m\u001b[0m\u001b[0m\n\u001b[0;32m--> 791\u001b[0;31m             \u001b[0my\u001b[0m \u001b[0;34m=\u001b[0m \u001b[0msuper\u001b[0m\u001b[0;34m(\u001b[0m\u001b[0;34m)\u001b[0m\u001b[0;34m.\u001b[0m\u001b[0mpredict\u001b[0m\u001b[0;34m(\u001b[0m\u001b[0mX\u001b[0m\u001b[0;34m)\u001b[0m\u001b[0;34m\u001b[0m\u001b[0;34m\u001b[0m\u001b[0m\n\u001b[0m\u001b[1;32m    792\u001b[0m         \u001b[0;32mreturn\u001b[0m \u001b[0mself\u001b[0m\u001b[0;34m.\u001b[0m\u001b[0mclasses_\u001b[0m\u001b[0;34m.\u001b[0m\u001b[0mtake\u001b[0m\u001b[0;34m(\u001b[0m\u001b[0mnp\u001b[0m\u001b[0;34m.\u001b[0m\u001b[0masarray\u001b[0m\u001b[0;34m(\u001b[0m\u001b[0my\u001b[0m\u001b[0;34m,\u001b[0m \u001b[0mdtype\u001b[0m\u001b[0;34m=\u001b[0m\u001b[0mnp\u001b[0m\u001b[0;34m.\u001b[0m\u001b[0mintp\u001b[0m\u001b[0;34m)\u001b[0m\u001b[0;34m)\u001b[0m\u001b[0;34m\u001b[0m\u001b[0;34m\u001b[0m\u001b[0m\n\u001b[1;32m    793\u001b[0m \u001b[0;34m\u001b[0m\u001b[0m\n",
            "\u001b[0;32m/usr/local/lib/python3.7/dist-packages/sklearn/svm/_base.py\u001b[0m in \u001b[0;36mpredict\u001b[0;34m(self, X)\u001b[0m\n\u001b[1;32m    412\u001b[0m             \u001b[0mThe\u001b[0m \u001b[0mpredicted\u001b[0m \u001b[0mvalues\u001b[0m\u001b[0;34m.\u001b[0m\u001b[0;34m\u001b[0m\u001b[0;34m\u001b[0m\u001b[0m\n\u001b[1;32m    413\u001b[0m         \"\"\"\n\u001b[0;32m--> 414\u001b[0;31m         \u001b[0mX\u001b[0m \u001b[0;34m=\u001b[0m \u001b[0mself\u001b[0m\u001b[0;34m.\u001b[0m\u001b[0m_validate_for_predict\u001b[0m\u001b[0;34m(\u001b[0m\u001b[0mX\u001b[0m\u001b[0;34m)\u001b[0m\u001b[0;34m\u001b[0m\u001b[0;34m\u001b[0m\u001b[0m\n\u001b[0m\u001b[1;32m    415\u001b[0m         \u001b[0mpredict\u001b[0m \u001b[0;34m=\u001b[0m \u001b[0mself\u001b[0m\u001b[0;34m.\u001b[0m\u001b[0m_sparse_predict\u001b[0m \u001b[0;32mif\u001b[0m \u001b[0mself\u001b[0m\u001b[0;34m.\u001b[0m\u001b[0m_sparse\u001b[0m \u001b[0;32melse\u001b[0m \u001b[0mself\u001b[0m\u001b[0;34m.\u001b[0m\u001b[0m_dense_predict\u001b[0m\u001b[0;34m\u001b[0m\u001b[0;34m\u001b[0m\u001b[0m\n\u001b[1;32m    416\u001b[0m         \u001b[0;32mreturn\u001b[0m \u001b[0mpredict\u001b[0m\u001b[0;34m(\u001b[0m\u001b[0mX\u001b[0m\u001b[0;34m)\u001b[0m\u001b[0;34m\u001b[0m\u001b[0;34m\u001b[0m\u001b[0m\n",
            "\u001b[0;32m/usr/local/lib/python3.7/dist-packages/sklearn/svm/_base.py\u001b[0m in \u001b[0;36m_validate_for_predict\u001b[0;34m(self, X)\u001b[0m\n\u001b[1;32m    596\u001b[0m                 \u001b[0morder\u001b[0m\u001b[0;34m=\u001b[0m\u001b[0;34m\"C\"\u001b[0m\u001b[0;34m,\u001b[0m\u001b[0;34m\u001b[0m\u001b[0;34m\u001b[0m\u001b[0m\n\u001b[1;32m    597\u001b[0m                 \u001b[0maccept_large_sparse\u001b[0m\u001b[0;34m=\u001b[0m\u001b[0;32mFalse\u001b[0m\u001b[0;34m,\u001b[0m\u001b[0;34m\u001b[0m\u001b[0;34m\u001b[0m\u001b[0m\n\u001b[0;32m--> 598\u001b[0;31m                 \u001b[0mreset\u001b[0m\u001b[0;34m=\u001b[0m\u001b[0;32mFalse\u001b[0m\u001b[0;34m,\u001b[0m\u001b[0;34m\u001b[0m\u001b[0;34m\u001b[0m\u001b[0m\n\u001b[0m\u001b[1;32m    599\u001b[0m             )\n\u001b[1;32m    600\u001b[0m \u001b[0;34m\u001b[0m\u001b[0m\n",
            "\u001b[0;32m/usr/local/lib/python3.7/dist-packages/sklearn/base.py\u001b[0m in \u001b[0;36m_validate_data\u001b[0;34m(self, X, y, reset, validate_separately, **check_params)\u001b[0m\n\u001b[1;32m    559\u001b[0m             \u001b[0;32mraise\u001b[0m \u001b[0mValueError\u001b[0m\u001b[0;34m(\u001b[0m\u001b[0;34m\"Validation should be done on X, y or both.\"\u001b[0m\u001b[0;34m)\u001b[0m\u001b[0;34m\u001b[0m\u001b[0;34m\u001b[0m\u001b[0m\n\u001b[1;32m    560\u001b[0m         \u001b[0;32melif\u001b[0m \u001b[0;32mnot\u001b[0m \u001b[0mno_val_X\u001b[0m \u001b[0;32mand\u001b[0m \u001b[0mno_val_y\u001b[0m\u001b[0;34m:\u001b[0m\u001b[0;34m\u001b[0m\u001b[0;34m\u001b[0m\u001b[0m\n\u001b[0;32m--> 561\u001b[0;31m             \u001b[0mX\u001b[0m \u001b[0;34m=\u001b[0m \u001b[0mcheck_array\u001b[0m\u001b[0;34m(\u001b[0m\u001b[0mX\u001b[0m\u001b[0;34m,\u001b[0m \u001b[0;34m**\u001b[0m\u001b[0mcheck_params\u001b[0m\u001b[0;34m)\u001b[0m\u001b[0;34m\u001b[0m\u001b[0;34m\u001b[0m\u001b[0m\n\u001b[0m\u001b[1;32m    562\u001b[0m             \u001b[0mout\u001b[0m \u001b[0;34m=\u001b[0m \u001b[0mX\u001b[0m\u001b[0;34m\u001b[0m\u001b[0;34m\u001b[0m\u001b[0m\n\u001b[1;32m    563\u001b[0m         \u001b[0;32melif\u001b[0m \u001b[0mno_val_X\u001b[0m \u001b[0;32mand\u001b[0m \u001b[0;32mnot\u001b[0m \u001b[0mno_val_y\u001b[0m\u001b[0;34m:\u001b[0m\u001b[0;34m\u001b[0m\u001b[0;34m\u001b[0m\u001b[0m\n",
            "\u001b[0;32m/usr/local/lib/python3.7/dist-packages/sklearn/utils/validation.py\u001b[0m in \u001b[0;36mcheck_array\u001b[0;34m(array, accept_sparse, accept_large_sparse, dtype, order, copy, force_all_finite, ensure_2d, allow_nd, ensure_min_samples, ensure_min_features, estimator)\u001b[0m\n\u001b[1;32m    786\u001b[0m             raise ValueError(\n\u001b[1;32m    787\u001b[0m                 \u001b[0;34m\"Found array with dim %d. %s expected <= 2.\"\u001b[0m\u001b[0;34m\u001b[0m\u001b[0;34m\u001b[0m\u001b[0m\n\u001b[0;32m--> 788\u001b[0;31m                 \u001b[0;34m%\u001b[0m \u001b[0;34m(\u001b[0m\u001b[0marray\u001b[0m\u001b[0;34m.\u001b[0m\u001b[0mndim\u001b[0m\u001b[0;34m,\u001b[0m \u001b[0mestimator_name\u001b[0m\u001b[0;34m)\u001b[0m\u001b[0;34m\u001b[0m\u001b[0;34m\u001b[0m\u001b[0m\n\u001b[0m\u001b[1;32m    789\u001b[0m             )\n\u001b[1;32m    790\u001b[0m \u001b[0;34m\u001b[0m\u001b[0m\n",
            "\u001b[0;31mValueError\u001b[0m: Found array with dim 3. Estimator expected <= 2."
          ]
        }
      ]
    },
    {
      "cell_type": "markdown",
      "source": [
        "NonLinear SVM"
      ],
      "metadata": {
        "id": "FU3Y_XRYjLxK"
      }
    },
    {
      "cell_type": "code",
      "source": [
        "def calculateParams(X, y, Xval, yval, vals):\n",
        "    \"\"\"\n",
        "    returns the optimal C and gamma(1/sigma) based on a cross-validation set.\n",
        "    \"\"\"\n",
        "    acc = 0\n",
        "    best_C=0\n",
        "    best_gamma=0\n",
        "    for i in vals:\n",
        "        C= i\n",
        "        for j in vals:\n",
        "            gamma = 1/j\n",
        "            classifier = SVC(C=C,gamma=gamma)\n",
        "            classifier.fit(X,y)\n",
        "            prediction = classifier.predict(Xval)\n",
        "            score = classifier.score(Xval,yval)\n",
        "            if score>acc:\n",
        "                acc =score\n",
        "                best_C =C\n",
        "                best_gamma=gamma\n",
        "    return best_C, best_gamma"
      ],
      "metadata": {
        "id": "bEEPXM2TjVh6"
      },
      "execution_count": null,
      "outputs": []
    },
    {
      "cell_type": "markdown",
      "source": [
        "RBF SVM"
      ],
      "metadata": {
        "id": "I7mD3-FDjWgG"
      }
    }
  ]
}